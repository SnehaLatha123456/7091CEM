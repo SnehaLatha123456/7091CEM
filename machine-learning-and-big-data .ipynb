{
 "cells": [
  {
   "cell_type": "code",
   "execution_count": 1,
   "metadata": {
    "_kg_hide-input": true,
    "_kg_hide-output": true,
    "execution": {
     "iopub.execute_input": "2023-03-27T21:47:12.191392Z",
     "iopub.status.busy": "2023-03-27T21:47:12.190941Z",
     "iopub.status.idle": "2023-03-27T21:48:00.250021Z",
     "shell.execute_reply": "2023-03-27T21:48:00.248516Z",
     "shell.execute_reply.started": "2023-03-27T21:47:12.191351Z"
    }
   },
   "outputs": [
    {
     "name": "stdout",
     "output_type": "stream",
     "text": [
      "Collecting pyspark\n",
      "  Downloading pyspark-3.3.2.tar.gz (281.4 MB)\n",
      "Collecting py4j==0.10.9.5\n",
      "  Downloading py4j-0.10.9.5-py2.py3-none-any.whl (199 kB)\n",
      "Building wheels for collected packages: pyspark\n",
      "  Building wheel for pyspark (setup.py): started\n",
      "  Building wheel for pyspark (setup.py): finished with status 'done'\n",
      "  Created wheel for pyspark: filename=pyspark-3.3.2-py2.py3-none-any.whl size=281824025 sha256=2b4eebfa9c1f59149e01ef491e9d3357c4f2da246b20a05381ee3185cc345d74\n",
      "  Stored in directory: c:\\users\\lenovo\\appdata\\local\\pip\\cache\\wheels\\6c\\e3\\9b\\0525ce8a69478916513509d43693511463c6468db0de237c86\n",
      "Successfully built pyspark\n",
      "Installing collected packages: py4j, pyspark\n",
      "Successfully installed py4j-0.10.9.5 pyspark-3.3.2\n"
     ]
    }
   ],
   "source": [
    "!pip install pyspark"
   ]
  },
  {
   "cell_type": "code",
   "execution_count": 13,
   "metadata": {
    "execution": {
     "iopub.execute_input": "2023-03-27T21:48:00.254720Z",
     "iopub.status.busy": "2023-03-27T21:48:00.253947Z",
     "iopub.status.idle": "2023-03-27T21:48:01.152901Z",
     "shell.execute_reply": "2023-03-27T21:48:01.151933Z",
     "shell.execute_reply.started": "2023-03-27T21:48:00.254664Z"
    }
   },
   "outputs": [
    {
     "ename": "ModuleNotFoundError",
     "evalue": "No module named 'pyspark'",
     "output_type": "error",
     "traceback": [
      "\u001b[1;31m---------------------------------------------------------------------------\u001b[0m",
      "\u001b[1;31mModuleNotFoundError\u001b[0m                       Traceback (most recent call last)",
      "\u001b[1;32m~\\AppData\\Local\\Temp/ipykernel_12744/360663446.py\u001b[0m in \u001b[0;36m<module>\u001b[1;34m\u001b[0m\n\u001b[1;32m----> 1\u001b[1;33m \u001b[1;32mfrom\u001b[0m \u001b[0mpyspark\u001b[0m\u001b[1;33m.\u001b[0m\u001b[0msql\u001b[0m\u001b[1;33m.\u001b[0m\u001b[0mtypes\u001b[0m \u001b[1;32mimport\u001b[0m \u001b[0mStructType\u001b[0m\u001b[1;33m,\u001b[0m \u001b[0mStructField\u001b[0m\u001b[1;33m,\u001b[0m \u001b[0mIntegerType\u001b[0m\u001b[1;33m\u001b[0m\u001b[1;33m\u001b[0m\u001b[0m\n\u001b[0m\u001b[0;32m      2\u001b[0m \u001b[1;32mfrom\u001b[0m \u001b[0mpyspark\u001b[0m\u001b[1;33m.\u001b[0m\u001b[0msql\u001b[0m\u001b[1;33m.\u001b[0m\u001b[0mfunctions\u001b[0m \u001b[1;32mimport\u001b[0m \u001b[0misnan\u001b[0m\u001b[1;33m,\u001b[0m \u001b[0mwhen\u001b[0m\u001b[1;33m,\u001b[0m \u001b[0mcol\u001b[0m\u001b[1;33m,\u001b[0m\u001b[0mcount\u001b[0m\u001b[1;33m,\u001b[0m\u001b[0mlit\u001b[0m\u001b[1;33m,\u001b[0m \u001b[0mregexp_extract\u001b[0m\u001b[1;33m,\u001b[0m \u001b[0mmean\u001b[0m\u001b[1;33m,\u001b[0m \u001b[0mavg\u001b[0m\u001b[1;33m,\u001b[0m \u001b[0msplit\u001b[0m\u001b[1;33m\u001b[0m\u001b[1;33m\u001b[0m\u001b[0m\n\u001b[0;32m      3\u001b[0m \u001b[1;32mfrom\u001b[0m \u001b[0mpyspark\u001b[0m\u001b[1;33m.\u001b[0m\u001b[0mml\u001b[0m\u001b[1;33m.\u001b[0m\u001b[0mfeature\u001b[0m \u001b[1;32mimport\u001b[0m \u001b[0mStringIndexer\u001b[0m\u001b[1;33m,\u001b[0m \u001b[0mOneHotEncoder\u001b[0m\u001b[1;33m,\u001b[0m \u001b[0mVectorAssembler\u001b[0m\u001b[1;33m\u001b[0m\u001b[1;33m\u001b[0m\u001b[0m\n\u001b[0;32m      4\u001b[0m \u001b[1;32mfrom\u001b[0m \u001b[0mpyspark\u001b[0m\u001b[1;33m.\u001b[0m\u001b[0mml\u001b[0m \u001b[1;32mimport\u001b[0m \u001b[0mPipeline\u001b[0m\u001b[1;33m\u001b[0m\u001b[1;33m\u001b[0m\u001b[0m\n\u001b[0;32m      5\u001b[0m \u001b[1;32mimport\u001b[0m \u001b[0mpyspark\u001b[0m\u001b[1;33m\u001b[0m\u001b[1;33m\u001b[0m\u001b[0m\n",
      "\u001b[1;31mModuleNotFoundError\u001b[0m: No module named 'pyspark'"
     ]
    }
   ],
   "source": [
    "from pyspark.sql.types import StructType, StructField, IntegerType\n",
    "from pyspark.sql.functions import isnan, when, col,count,lit, regexp_extract, mean, avg, split\n",
    "from pyspark.ml.feature import StringIndexer, OneHotEncoder, VectorAssembler\n",
    "from pyspark.ml import Pipeline\n",
    "import pyspark\n",
    "\n",
    "import pandas as pd \n",
    "import numpy as np\n",
    "\n",
    "import seaborn as sns\n",
    "import matplotlib as mpl\n",
    "from matplotlib import pyplot as plt\n",
    "plt.rcParams[\"figure.figsize\"] = (13,6)\n",
    "\n",
    "import warnings\n",
    "warnings.filterwarnings(\"ignore\", category=DeprecationWarning) "
   ]
  },
  {
   "cell_type": "code",
   "execution_count": 12,
   "metadata": {},
   "outputs": [
    {
     "name": "stdout",
     "output_type": "stream",
     "text": [
      "Requirement already satisfied: pyspark in c:\\programdata\\anaconda3\\lib\\site-packages (3.3.2)\n",
      "Requirement already satisfied: py4j==0.10.9.5 in c:\\programdata\\anaconda3\\lib\\site-packages (from pyspark) (0.10.9.5)\n"
     ]
    }
   ],
   "source": [
    "! pip install pyspark\n"
   ]
  },
  {
   "cell_type": "code",
   "execution_count": 3,
   "metadata": {
    "execution": {
     "iopub.execute_input": "2023-03-27T21:48:01.155080Z",
     "iopub.status.busy": "2023-03-27T21:48:01.154199Z",
     "iopub.status.idle": "2023-03-27T21:48:06.997495Z",
     "shell.execute_reply": "2023-03-27T21:48:06.996386Z",
     "shell.execute_reply.started": "2023-03-27T21:48:01.155037Z"
    }
   },
   "outputs": [
    {
     "name": "stderr",
     "output_type": "stream",
     "text": [
      "Setting default log level to \"WARN\".\n",
      "To adjust logging level use sc.setLogLevel(newLevel). For SparkR, use setLogLevel(newLevel).\n"
     ]
    },
    {
     "name": "stdout",
     "output_type": "stream",
     "text": [
      "23/03/27 21:48:04 WARN NativeCodeLoader: Unable to load native-hadoop library for your platform... using builtin-java classes where applicable\n"
     ]
    }
   ],
   "source": [
    "# Create Spark Session\n",
    "from pyspark.sql import SparkSession\n",
    "\n",
    "MAX_MEMORY = '15G'\n",
    "# Initialize a spark session.\n",
    "conf = pyspark.SparkConf().setMaster(\"local[*]\") \\\n",
    "        .set('spark.executor.heartbeatInterval', 10000) \\\n",
    "        .set('spark.network.timeout', 10000) \\\n",
    "        .set(\"spark.core.connection.ack.wait.timeout\", \"3600\") \\\n",
    "        .set(\"spark.executor.memory\", MAX_MEMORY) \\\n",
    "        .set(\"spark.driver.memory\", MAX_MEMORY)\n",
    "\n",
    "def init_spark():\n",
    "    spark = SparkSession \\\n",
    "        .builder \\\n",
    "        .appName(\"Pyspark guide\") \\\n",
    "        .config(conf=conf) \\\n",
    "        .getOrCreate()\n",
    "    return spark\n",
    "\n",
    "spark = init_spark()"
   ]
  },
  {
   "cell_type": "code",
   "execution_count": 4,
   "metadata": {
    "execution": {
     "iopub.execute_input": "2023-03-27T21:48:07.002968Z",
     "iopub.status.busy": "2023-03-27T21:48:07.002556Z",
     "iopub.status.idle": "2023-03-27T21:48:13.335237Z",
     "shell.execute_reply": "2023-03-27T21:48:13.333960Z",
     "shell.execute_reply.started": "2023-03-27T21:48:07.002924Z"
    }
   },
   "outputs": [],
   "source": [
    "# File location and type\n",
    "file_location = \"C:/Users/bonfa/Downloads/train.csv\"\n",
    "# df = spark.read.csv(file_location, header=True, inferSchema=True)\n",
    "file_type = \"csv\"\n",
    "\n",
    "# CSV options\n",
    "infer_schema = \"true\"\n",
    "first_row_is_header = \"true\"\n",
    "delimiter = \",\"\n",
    "\n",
    "df = spark.read.format(file_type) \\\n",
    "  .option(\"inferSchema\", infer_schema) \\\n",
    "  .option(\"header\", first_row_is_header) \\\n",
    "  .option(\"sep\", delimiter) \\\n",
    "  .load(file_location)"
   ]
  },
  {
   "cell_type": "code",
   "execution_count": 5,
   "metadata": {
    "execution": {
     "iopub.execute_input": "2023-03-27T21:48:13.338649Z",
     "iopub.status.busy": "2023-03-27T21:48:13.338185Z",
     "iopub.status.idle": "2023-03-27T21:48:13.346405Z",
     "shell.execute_reply": "2023-03-27T21:48:13.345027Z",
     "shell.execute_reply.started": "2023-03-27T21:48:13.338602Z"
    },
    "scrolled": true
   },
   "outputs": [
    {
     "name": "stdout",
     "output_type": "stream",
     "text": [
      "Data frame type: <class 'pyspark.sql.dataframe.DataFrame'>\n"
     ]
    }
   ],
   "source": [
    "print('Data frame type: ' + str(type(df)))"
   ]
  },
  {
   "cell_type": "code",
   "execution_count": 6,
   "metadata": {
    "execution": {
     "iopub.execute_input": "2023-03-27T21:48:13.349787Z",
     "iopub.status.busy": "2023-03-27T21:48:13.348362Z",
     "iopub.status.idle": "2023-03-27T21:48:16.236605Z",
     "shell.execute_reply": "2023-03-27T21:48:16.235277Z",
     "shell.execute_reply.started": "2023-03-27T21:48:13.349706Z"
    }
   },
   "outputs": [
    {
     "name": "stderr",
     "output_type": "stream",
     "text": [
      "[Stage 2:>                                                          (0 + 1) / 1]\r"
     ]
    },
    {
     "name": "stdout",
     "output_type": "stream",
     "text": [
      "+-------+-----------------+-------------------+------------------+--------------------+------+------------------+------------------+-------------------+------------------+-----------------+-----+--------+\n",
      "|summary|      PassengerId|           Survived|            Pclass|                Name|   Sex|               Age|             SibSp|              Parch|            Ticket|             Fare|Cabin|Embarked|\n",
      "+-------+-----------------+-------------------+------------------+--------------------+------+------------------+------------------+-------------------+------------------+-----------------+-----+--------+\n",
      "|  count|              891|                891|               891|                 891|   891|               714|               891|                891|               891|              891|  204|     889|\n",
      "|   mean|            446.0| 0.3838383838383838| 2.308641975308642|                null|  null| 29.69911764705882|0.5230078563411896|0.38159371492704824|260318.54916792738| 32.2042079685746| null|    null|\n",
      "| stddev|257.3538420152301|0.48659245426485753|0.8360712409770491|                null|  null|14.526497332334035|1.1027434322934315| 0.8060572211299488|471609.26868834975|49.69342859718089| null|    null|\n",
      "|    min|                1|                  0|                 1|\"Andersson, Mr. A...|female|              0.42|                 0|                  0|            110152|              0.0|  A10|       C|\n",
      "|    max|              891|                  1|                 3|van Melkebeke, Mr...|  male|              80.0|                 8|                  6|         WE/P 5735|         512.3292|    T|       S|\n",
      "+-------+-----------------+-------------------+------------------+--------------------+------+------------------+------------------+-------------------+------------------+-----------------+-----+--------+\n",
      "\n"
     ]
    },
    {
     "name": "stderr",
     "output_type": "stream",
     "text": [
      "                                                                                \r"
     ]
    }
   ],
   "source": [
    "df.describe().show()"
   ]
  },
  {
   "cell_type": "code",
   "execution_count": 7,
   "metadata": {
    "execution": {
     "iopub.execute_input": "2023-03-27T21:48:16.238294Z",
     "iopub.status.busy": "2023-03-27T21:48:16.237890Z",
     "iopub.status.idle": "2023-03-27T21:48:16.329038Z",
     "shell.execute_reply": "2023-03-27T21:48:16.327658Z",
     "shell.execute_reply.started": "2023-03-27T21:48:16.238250Z"
    }
   },
   "outputs": [
    {
     "name": "stdout",
     "output_type": "stream",
     "text": [
      "Data overview\n",
      "root\n",
      " |-- PassengerId: integer (nullable = true)\n",
      " |-- Survived: integer (nullable = true)\n",
      " |-- Pclass: integer (nullable = true)\n",
      " |-- Name: string (nullable = true)\n",
      " |-- Sex: string (nullable = true)\n",
      " |-- Age: double (nullable = true)\n",
      " |-- SibSp: integer (nullable = true)\n",
      " |-- Parch: integer (nullable = true)\n",
      " |-- Ticket: string (nullable = true)\n",
      " |-- Fare: double (nullable = true)\n",
      " |-- Cabin: string (nullable = true)\n",
      " |-- Embarked: string (nullable = true)\n",
      "\n",
      "Columns overview\n"
     ]
    },
    {
     "data": {
      "text/html": [
       "<div>\n",
       "<style scoped>\n",
       "    .dataframe tbody tr th:only-of-type {\n",
       "        vertical-align: middle;\n",
       "    }\n",
       "\n",
       "    .dataframe tbody tr th {\n",
       "        vertical-align: top;\n",
       "    }\n",
       "\n",
       "    .dataframe thead th {\n",
       "        text-align: right;\n",
       "    }\n",
       "</style>\n",
       "<table border=\"1\" class=\"dataframe\">\n",
       "  <thead>\n",
       "    <tr style=\"text-align: right;\">\n",
       "      <th></th>\n",
       "      <th>Column Name</th>\n",
       "      <th>Data type</th>\n",
       "    </tr>\n",
       "  </thead>\n",
       "  <tbody>\n",
       "    <tr>\n",
       "      <th>0</th>\n",
       "      <td>PassengerId</td>\n",
       "      <td>int</td>\n",
       "    </tr>\n",
       "    <tr>\n",
       "      <th>1</th>\n",
       "      <td>Survived</td>\n",
       "      <td>int</td>\n",
       "    </tr>\n",
       "    <tr>\n",
       "      <th>2</th>\n",
       "      <td>Pclass</td>\n",
       "      <td>int</td>\n",
       "    </tr>\n",
       "    <tr>\n",
       "      <th>3</th>\n",
       "      <td>Name</td>\n",
       "      <td>string</td>\n",
       "    </tr>\n",
       "    <tr>\n",
       "      <th>4</th>\n",
       "      <td>Sex</td>\n",
       "      <td>string</td>\n",
       "    </tr>\n",
       "    <tr>\n",
       "      <th>5</th>\n",
       "      <td>Age</td>\n",
       "      <td>double</td>\n",
       "    </tr>\n",
       "    <tr>\n",
       "      <th>6</th>\n",
       "      <td>SibSp</td>\n",
       "      <td>int</td>\n",
       "    </tr>\n",
       "    <tr>\n",
       "      <th>7</th>\n",
       "      <td>Parch</td>\n",
       "      <td>int</td>\n",
       "    </tr>\n",
       "    <tr>\n",
       "      <th>8</th>\n",
       "      <td>Ticket</td>\n",
       "      <td>string</td>\n",
       "    </tr>\n",
       "    <tr>\n",
       "      <th>9</th>\n",
       "      <td>Fare</td>\n",
       "      <td>double</td>\n",
       "    </tr>\n",
       "    <tr>\n",
       "      <th>10</th>\n",
       "      <td>Cabin</td>\n",
       "      <td>string</td>\n",
       "    </tr>\n",
       "    <tr>\n",
       "      <th>11</th>\n",
       "      <td>Embarked</td>\n",
       "      <td>string</td>\n",
       "    </tr>\n",
       "  </tbody>\n",
       "</table>\n",
       "</div>"
      ],
      "text/plain": [
       "    Column Name Data type\n",
       "0   PassengerId       int\n",
       "1      Survived       int\n",
       "2        Pclass       int\n",
       "3          Name    string\n",
       "4           Sex    string\n",
       "5           Age    double\n",
       "6         SibSp       int\n",
       "7         Parch       int\n",
       "8        Ticket    string\n",
       "9          Fare    double\n",
       "10        Cabin    string\n",
       "11     Embarked    string"
      ]
     },
     "execution_count": 7,
     "metadata": {},
     "output_type": "execute_result"
    }
   ],
   "source": [
    "print('Data overview')\n",
    "df.printSchema()\n",
    "print('Columns overview')\n",
    "pd.DataFrame(df.dtypes, columns = ['Column Name','Data type'])"
   ]
  },
  {
   "cell_type": "code",
   "execution_count": 8,
   "metadata": {
    "execution": {
     "iopub.execute_input": "2023-03-27T21:48:16.331874Z",
     "iopub.status.busy": "2023-03-27T21:48:16.330640Z",
     "iopub.status.idle": "2023-03-27T21:48:17.224078Z",
     "shell.execute_reply": "2023-03-27T21:48:17.222901Z",
     "shell.execute_reply.started": "2023-03-27T21:48:16.331812Z"
    }
   },
   "outputs": [
    {
     "name": "stdout",
     "output_type": "stream",
     "text": [
      "Data frame describe (string and numeric columns only):\n"
     ]
    },
    {
     "data": {
      "text/html": [
       "<div>\n",
       "<style scoped>\n",
       "    .dataframe tbody tr th:only-of-type {\n",
       "        vertical-align: middle;\n",
       "    }\n",
       "\n",
       "    .dataframe tbody tr th {\n",
       "        vertical-align: top;\n",
       "    }\n",
       "\n",
       "    .dataframe thead th {\n",
       "        text-align: right;\n",
       "    }\n",
       "</style>\n",
       "<table border=\"1\" class=\"dataframe\">\n",
       "  <thead>\n",
       "    <tr style=\"text-align: right;\">\n",
       "      <th></th>\n",
       "      <th>summary</th>\n",
       "      <th>PassengerId</th>\n",
       "      <th>Survived</th>\n",
       "      <th>Pclass</th>\n",
       "      <th>Name</th>\n",
       "      <th>Sex</th>\n",
       "      <th>Age</th>\n",
       "      <th>SibSp</th>\n",
       "      <th>Parch</th>\n",
       "      <th>Ticket</th>\n",
       "      <th>Fare</th>\n",
       "      <th>Cabin</th>\n",
       "      <th>Embarked</th>\n",
       "    </tr>\n",
       "  </thead>\n",
       "  <tbody>\n",
       "    <tr>\n",
       "      <th>0</th>\n",
       "      <td>count</td>\n",
       "      <td>891</td>\n",
       "      <td>891</td>\n",
       "      <td>891</td>\n",
       "      <td>891</td>\n",
       "      <td>891</td>\n",
       "      <td>714</td>\n",
       "      <td>891</td>\n",
       "      <td>891</td>\n",
       "      <td>891</td>\n",
       "      <td>891</td>\n",
       "      <td>204</td>\n",
       "      <td>889</td>\n",
       "    </tr>\n",
       "    <tr>\n",
       "      <th>1</th>\n",
       "      <td>mean</td>\n",
       "      <td>446.0</td>\n",
       "      <td>0.3838383838383838</td>\n",
       "      <td>2.308641975308642</td>\n",
       "      <td>None</td>\n",
       "      <td>None</td>\n",
       "      <td>29.69911764705882</td>\n",
       "      <td>0.5230078563411896</td>\n",
       "      <td>0.38159371492704824</td>\n",
       "      <td>260318.54916792738</td>\n",
       "      <td>32.2042079685746</td>\n",
       "      <td>None</td>\n",
       "      <td>None</td>\n",
       "    </tr>\n",
       "    <tr>\n",
       "      <th>2</th>\n",
       "      <td>stddev</td>\n",
       "      <td>257.3538420152301</td>\n",
       "      <td>0.48659245426485753</td>\n",
       "      <td>0.8360712409770491</td>\n",
       "      <td>None</td>\n",
       "      <td>None</td>\n",
       "      <td>14.526497332334035</td>\n",
       "      <td>1.1027434322934315</td>\n",
       "      <td>0.8060572211299488</td>\n",
       "      <td>471609.26868834975</td>\n",
       "      <td>49.69342859718089</td>\n",
       "      <td>None</td>\n",
       "      <td>None</td>\n",
       "    </tr>\n",
       "    <tr>\n",
       "      <th>3</th>\n",
       "      <td>min</td>\n",
       "      <td>1</td>\n",
       "      <td>0</td>\n",
       "      <td>1</td>\n",
       "      <td>\"Andersson, Mr. August Edvard (\"\"Wennerstrom\"\")\"</td>\n",
       "      <td>female</td>\n",
       "      <td>0.42</td>\n",
       "      <td>0</td>\n",
       "      <td>0</td>\n",
       "      <td>110152</td>\n",
       "      <td>0.0</td>\n",
       "      <td>A10</td>\n",
       "      <td>C</td>\n",
       "    </tr>\n",
       "    <tr>\n",
       "      <th>4</th>\n",
       "      <td>max</td>\n",
       "      <td>891</td>\n",
       "      <td>1</td>\n",
       "      <td>3</td>\n",
       "      <td>van Melkebeke, Mr. Philemon</td>\n",
       "      <td>male</td>\n",
       "      <td>80.0</td>\n",
       "      <td>8</td>\n",
       "      <td>6</td>\n",
       "      <td>WE/P 5735</td>\n",
       "      <td>512.3292</td>\n",
       "      <td>T</td>\n",
       "      <td>S</td>\n",
       "    </tr>\n",
       "  </tbody>\n",
       "</table>\n",
       "</div>"
      ],
      "text/plain": [
       "  summary        PassengerId             Survived              Pclass  \\\n",
       "0   count                891                  891                 891   \n",
       "1    mean              446.0   0.3838383838383838   2.308641975308642   \n",
       "2  stddev  257.3538420152301  0.48659245426485753  0.8360712409770491   \n",
       "3     min                  1                    0                   1   \n",
       "4     max                891                    1                   3   \n",
       "\n",
       "                                               Name     Sex  \\\n",
       "0                                               891     891   \n",
       "1                                              None    None   \n",
       "2                                              None    None   \n",
       "3  \"Andersson, Mr. August Edvard (\"\"Wennerstrom\"\")\"  female   \n",
       "4                       van Melkebeke, Mr. Philemon    male   \n",
       "\n",
       "                  Age               SibSp                Parch  \\\n",
       "0                 714                 891                  891   \n",
       "1   29.69911764705882  0.5230078563411896  0.38159371492704824   \n",
       "2  14.526497332334035  1.1027434322934315   0.8060572211299488   \n",
       "3                0.42                   0                    0   \n",
       "4                80.0                   8                    6   \n",
       "\n",
       "               Ticket               Fare Cabin Embarked  \n",
       "0                 891                891   204      889  \n",
       "1  260318.54916792738   32.2042079685746  None     None  \n",
       "2  471609.26868834975  49.69342859718089  None     None  \n",
       "3              110152                0.0   A10        C  \n",
       "4           WE/P 5735           512.3292     T        S  "
      ]
     },
     "execution_count": 8,
     "metadata": {},
     "output_type": "execute_result"
    }
   ],
   "source": [
    "print('Data frame describe (string and numeric columns only):')\n",
    "df.describe().toPandas()"
   ]
  },
  {
   "cell_type": "code",
   "execution_count": 9,
   "metadata": {
    "execution": {
     "iopub.execute_input": "2023-03-27T21:48:17.226308Z",
     "iopub.status.busy": "2023-03-27T21:48:17.225701Z",
     "iopub.status.idle": "2023-03-27T21:48:17.688503Z",
     "shell.execute_reply": "2023-03-27T21:48:17.687138Z",
     "shell.execute_reply.started": "2023-03-27T21:48:17.226272Z"
    }
   },
   "outputs": [
    {
     "name": "stdout",
     "output_type": "stream",
     "text": [
      "There are total 891 row, Let print first 3 data rows:\n"
     ]
    },
    {
     "data": {
      "text/html": [
       "<div>\n",
       "<style scoped>\n",
       "    .dataframe tbody tr th:only-of-type {\n",
       "        vertical-align: middle;\n",
       "    }\n",
       "\n",
       "    .dataframe tbody tr th {\n",
       "        vertical-align: top;\n",
       "    }\n",
       "\n",
       "    .dataframe thead th {\n",
       "        text-align: right;\n",
       "    }\n",
       "</style>\n",
       "<table border=\"1\" class=\"dataframe\">\n",
       "  <thead>\n",
       "    <tr style=\"text-align: right;\">\n",
       "      <th></th>\n",
       "      <th>PassengerId</th>\n",
       "      <th>Survived</th>\n",
       "      <th>Pclass</th>\n",
       "      <th>Name</th>\n",
       "      <th>Sex</th>\n",
       "      <th>Age</th>\n",
       "      <th>SibSp</th>\n",
       "      <th>Parch</th>\n",
       "      <th>Ticket</th>\n",
       "      <th>Fare</th>\n",
       "      <th>Cabin</th>\n",
       "      <th>Embarked</th>\n",
       "    </tr>\n",
       "  </thead>\n",
       "  <tbody>\n",
       "    <tr>\n",
       "      <th>0</th>\n",
       "      <td>1</td>\n",
       "      <td>0</td>\n",
       "      <td>3</td>\n",
       "      <td>Braund, Mr. Owen Harris</td>\n",
       "      <td>male</td>\n",
       "      <td>22.0</td>\n",
       "      <td>1</td>\n",
       "      <td>0</td>\n",
       "      <td>A/5 21171</td>\n",
       "      <td>7.2500</td>\n",
       "      <td>None</td>\n",
       "      <td>S</td>\n",
       "    </tr>\n",
       "    <tr>\n",
       "      <th>1</th>\n",
       "      <td>2</td>\n",
       "      <td>1</td>\n",
       "      <td>1</td>\n",
       "      <td>Cumings, Mrs. John Bradley (Florence Briggs Th...</td>\n",
       "      <td>female</td>\n",
       "      <td>38.0</td>\n",
       "      <td>1</td>\n",
       "      <td>0</td>\n",
       "      <td>PC 17599</td>\n",
       "      <td>71.2833</td>\n",
       "      <td>C85</td>\n",
       "      <td>C</td>\n",
       "    </tr>\n",
       "    <tr>\n",
       "      <th>2</th>\n",
       "      <td>3</td>\n",
       "      <td>1</td>\n",
       "      <td>3</td>\n",
       "      <td>Heikkinen, Miss. Laina</td>\n",
       "      <td>female</td>\n",
       "      <td>26.0</td>\n",
       "      <td>0</td>\n",
       "      <td>0</td>\n",
       "      <td>STON/O2. 3101282</td>\n",
       "      <td>7.9250</td>\n",
       "      <td>None</td>\n",
       "      <td>S</td>\n",
       "    </tr>\n",
       "  </tbody>\n",
       "</table>\n",
       "</div>"
      ],
      "text/plain": [
       "   PassengerId  Survived  Pclass  \\\n",
       "0            1         0       3   \n",
       "1            2         1       1   \n",
       "2            3         1       3   \n",
       "\n",
       "                                                Name     Sex   Age  SibSp  \\\n",
       "0                            Braund, Mr. Owen Harris    male  22.0      1   \n",
       "1  Cumings, Mrs. John Bradley (Florence Briggs Th...  female  38.0      1   \n",
       "2                             Heikkinen, Miss. Laina  female  26.0      0   \n",
       "\n",
       "   Parch            Ticket     Fare Cabin Embarked  \n",
       "0      0         A/5 21171   7.2500  None        S  \n",
       "1      0          PC 17599  71.2833   C85        C  \n",
       "2      0  STON/O2. 3101282   7.9250  None        S  "
      ]
     },
     "execution_count": 9,
     "metadata": {},
     "output_type": "execute_result"
    }
   ],
   "source": [
    "print(f'There are total {df.count()} row, Let print first 3 data rows:')\n",
    "df.limit(3).toPandas()"
   ]
  },
  {
   "cell_type": "code",
   "execution_count": 10,
   "metadata": {
    "execution": {
     "iopub.execute_input": "2023-03-27T21:48:17.691563Z",
     "iopub.status.busy": "2023-03-27T21:48:17.690650Z",
     "iopub.status.idle": "2023-03-27T21:48:17.899756Z",
     "shell.execute_reply": "2023-03-27T21:48:17.898525Z",
     "shell.execute_reply.started": "2023-03-27T21:48:17.691510Z"
    }
   },
   "outputs": [
    {
     "data": {
      "text/plain": [
       "DataFrame[PassengerId: bigint, Survived: bigint, Pclass: bigint, Name: bigint, Sex: bigint, Age: bigint, SibSp: bigint, Parch: bigint, Ticket: bigint, Fare: bigint, Cabin: bigint, Embarked: bigint]"
      ]
     },
     "metadata": {},
     "output_type": "display_data"
    }
   ],
   "source": [
    "from pyspark.sql.functions import isnan, count, when, col\n",
    "display(df.select([count(when(isnan(c)|col(c).isNull(),c)).alias(c) for c in df.columns]))"
   ]
  },
  {
   "cell_type": "code",
   "execution_count": 11,
   "metadata": {
    "execution": {
     "iopub.execute_input": "2023-03-27T21:48:17.902175Z",
     "iopub.status.busy": "2023-03-27T21:48:17.901724Z",
     "iopub.status.idle": "2023-03-27T21:48:18.531718Z",
     "shell.execute_reply": "2023-03-27T21:48:18.530279Z",
     "shell.execute_reply.started": "2023-03-27T21:48:17.902128Z"
    }
   },
   "outputs": [
    {
     "name": "stdout",
     "output_type": "stream",
     "text": [
      "+--------+-----+\n",
      "|Survived|count|\n",
      "+--------+-----+\n",
      "|       1|  342|\n",
      "|       0|  549|\n",
      "+--------+-----+\n",
      "\n"
     ]
    }
   ],
   "source": [
    "df.groupBy(\"Survived\").count().show()"
   ]
  },
  {
   "cell_type": "code",
   "execution_count": 12,
   "metadata": {
    "execution": {
     "iopub.execute_input": "2023-03-27T21:48:18.534918Z",
     "iopub.status.busy": "2023-03-27T21:48:18.533051Z",
     "iopub.status.idle": "2023-03-27T21:48:18.941697Z",
     "shell.execute_reply": "2023-03-27T21:48:18.940524Z",
     "shell.execute_reply.started": "2023-03-27T21:48:18.534858Z"
    }
   },
   "outputs": [
    {
     "name": "stdout",
     "output_type": "stream",
     "text": [
      "+------+--------+-----+\n",
      "|   Sex|Survived|count|\n",
      "+------+--------+-----+\n",
      "|  male|       0|  468|\n",
      "|female|       1|  233|\n",
      "|female|       0|   81|\n",
      "|  male|       1|  109|\n",
      "+------+--------+-----+\n",
      "\n"
     ]
    }
   ],
   "source": [
    "df.groupBy(\"Sex\",\"Survived\").count().show()"
   ]
  },
  {
   "cell_type": "markdown",
   "metadata": {},
   "source": [
    "#### - **`Pclass`:**"
   ]
  },
  {
   "cell_type": "code",
   "execution_count": 13,
   "metadata": {
    "execution": {
     "iopub.execute_input": "2023-03-27T21:48:18.943298Z",
     "iopub.status.busy": "2023-03-27T21:48:18.942894Z",
     "iopub.status.idle": "2023-03-27T21:48:19.302893Z",
     "shell.execute_reply": "2023-03-27T21:48:19.301528Z",
     "shell.execute_reply.started": "2023-03-27T21:48:18.943257Z"
    }
   },
   "outputs": [
    {
     "name": "stdout",
     "output_type": "stream",
     "text": [
      "+------+--------+-----+\n",
      "|Pclass|Survived|count|\n",
      "+------+--------+-----+\n",
      "|     1|       0|   80|\n",
      "|     3|       1|  119|\n",
      "|     1|       1|  136|\n",
      "|     2|       1|   87|\n",
      "|     2|       0|   97|\n",
      "|     3|       0|  372|\n",
      "+------+--------+-----+\n",
      "\n"
     ]
    }
   ],
   "source": [
    "df.groupBy(\"Pclass\",\"Survived\").count().show()"
   ]
  },
  {
   "cell_type": "markdown",
   "metadata": {},
   "source": [
    "#### - **`Age`:**"
   ]
  },
  {
   "cell_type": "code",
   "execution_count": 14,
   "metadata": {
    "execution": {
     "iopub.execute_input": "2023-03-27T21:48:19.311373Z",
     "iopub.status.busy": "2023-03-27T21:48:19.310986Z",
     "iopub.status.idle": "2023-03-27T21:48:19.469527Z",
     "shell.execute_reply": "2023-03-27T21:48:19.468565Z",
     "shell.execute_reply.started": "2023-03-27T21:48:19.311335Z"
    }
   },
   "outputs": [],
   "source": [
    "df_pd = df.toPandas()"
   ]
  },
  {
   "cell_type": "code",
   "execution_count": 15,
   "metadata": {
    "execution": {
     "iopub.execute_input": "2023-03-27T21:48:19.473169Z",
     "iopub.status.busy": "2023-03-27T21:48:19.472689Z",
     "iopub.status.idle": "2023-03-27T21:48:20.049834Z",
     "shell.execute_reply": "2023-03-27T21:48:20.048922Z",
     "shell.execute_reply.started": "2023-03-27T21:48:19.473120Z"
    }
   },
   "outputs": [
    {
     "data": {
      "text/plain": [
       "[Text(0.5, 0, 'Age Groups'), Text(0, 0.5, 'Number  of  Travelers')]"
      ]
     },
     "execution_count": 15,
     "metadata": {},
     "output_type": "execute_result"
    },
    {
     "data": {
      "image/png": "[encoded data removed]",
      "text/plain": [
       "<Figure size 1300x600 with 1 Axes>"
      ]
     },
     "metadata": {},
     "output_type": "display_data"
    }
   ],
   "source": [
    "df_pd = df.toPandas()\n",
    "plt.rcParams[\"axes.labelsize\"] = 15\n",
    "plt.tick_params(labelsize=12.5)\n",
    "ax = sns.histplot(data=df_pd, x=\"Age\", hue=\"Survived\",  multiple=\"dodge\", bins=8)\n",
    "ax.set(xlabel='Age Groups',\n",
    "       ylabel='Number  of  Travelers')"
   ]
  },
  {
   "cell_type": "code",
   "execution_count": 16,
   "metadata": {
    "execution": {
     "iopub.execute_input": "2023-03-27T21:48:20.052077Z",
     "iopub.status.busy": "2023-03-27T21:48:20.051392Z",
     "iopub.status.idle": "2023-03-27T21:48:20.492113Z",
     "shell.execute_reply": "2023-03-27T21:48:20.490800Z",
     "shell.execute_reply.started": "2023-03-27T21:48:20.052039Z"
    }
   },
   "outputs": [
    {
     "data": {
      "text/plain": [
       "89"
      ]
     },
     "execution_count": 16,
     "metadata": {},
     "output_type": "execute_result"
    }
   ],
   "source": [
    "df.select('Age').distinct().count() #THIS IS THE NUMBER OF UNIQUE VALUES IN THE AGE COLUMN"
   ]
  },
  {
   "cell_type": "markdown",
   "metadata": {},
   "source": [
    "#### - **`Embarked`:**<br>"
   ]
  },
  {
   "cell_type": "code",
   "execution_count": 17,
   "metadata": {
    "execution": {
     "iopub.execute_input": "2023-03-27T21:48:20.495103Z",
     "iopub.status.busy": "2023-03-27T21:48:20.493899Z",
     "iopub.status.idle": "2023-03-27T21:48:20.820687Z",
     "shell.execute_reply": "2023-03-27T21:48:20.819290Z",
     "shell.execute_reply.started": "2023-03-27T21:48:20.495054Z"
    }
   },
   "outputs": [
    {
     "name": "stdout",
     "output_type": "stream",
     "text": [
      "+--------+--------+-----+\n",
      "|Embarked|Survived|count|\n",
      "+--------+--------+-----+\n",
      "|    null|       1|    2|\n",
      "|       Q|       1|   30|\n",
      "|       S|       0|  427|\n",
      "|       S|       1|  217|\n",
      "|       C|       1|   93|\n",
      "|       Q|       0|   47|\n",
      "|       C|       0|   75|\n",
      "+--------+--------+-----+\n",
      "\n"
     ]
    }
   ],
   "source": [
    "df.groupBy(\"Embarked\",\"Survived\").count().show()"
   ]
  },
  {
   "cell_type": "markdown",
   "metadata": {},
   "source": [
    "#### - **`Fare`:**<br>"
   ]
  },
  {
   "cell_type": "code",
   "execution_count": 18,
   "metadata": {
    "execution": {
     "iopub.execute_input": "2023-03-27T21:48:20.822803Z",
     "iopub.status.busy": "2023-03-27T21:48:20.822092Z",
     "iopub.status.idle": "2023-03-27T21:48:21.191917Z",
     "shell.execute_reply": "2023-03-27T21:48:21.190765Z",
     "shell.execute_reply.started": "2023-03-27T21:48:20.822748Z"
    }
   },
   "outputs": [
    {
     "name": "stdout",
     "output_type": "stream",
     "text": [
      "+-------+--------+-----+\n",
      "|   Fare|Survived|count|\n",
      "+-------+--------+-----+\n",
      "|   28.5|       0|    1|\n",
      "|56.4958|       1|    5|\n",
      "|  24.15|       0|    7|\n",
      "|  120.0|       1|    4|\n",
      "|  15.85|       0|    2|\n",
      "+-------+--------+-----+\n",
      "only showing top 5 rows\n",
      "\n"
     ]
    }
   ],
   "source": [
    "df.groupBy(\"Fare\",\"Survived\").count().show(5)"
   ]
  },
  {
   "cell_type": "code",
   "execution_count": 19,
   "metadata": {
    "execution": {
     "iopub.execute_input": "2023-03-27T21:48:21.193830Z",
     "iopub.status.busy": "2023-03-27T21:48:21.193108Z",
     "iopub.status.idle": "2023-03-27T21:48:21.211621Z",
     "shell.execute_reply": "2023-03-27T21:48:21.210650Z",
     "shell.execute_reply.started": "2023-03-27T21:48:21.193782Z"
    }
   },
   "outputs": [
    {
     "data": {
      "text/plain": [
       "count    891.000000\n",
       "mean      32.204208\n",
       "std       49.693429\n",
       "min        0.000000\n",
       "25%        7.910400\n",
       "50%       14.454200\n",
       "75%       31.000000\n",
       "max      512.329200\n",
       "Name: Fare, dtype: float64"
      ]
     },
     "execution_count": 19,
     "metadata": {},
     "output_type": "execute_result"
    }
   ],
   "source": [
    "df_pd.Fare.describe() #THIS IS THE STATISTICAL DESCRIPTION OF THE FARE COLUMN"
   ]
  },
  {
   "cell_type": "code",
   "execution_count": 20,
   "metadata": {
    "execution": {
     "iopub.execute_input": "2023-03-27T21:48:21.214782Z",
     "iopub.status.busy": "2023-03-27T21:48:21.213826Z",
     "iopub.status.idle": "2023-03-27T21:48:21.224927Z",
     "shell.execute_reply": "2023-03-27T21:48:21.223800Z",
     "shell.execute_reply.started": "2023-03-27T21:48:21.214731Z"
    }
   },
   "outputs": [],
   "source": [
    "df_pd['Fare_Class'] = pd.cut(df_pd['Fare'], bins=[0,7.91,14.45,31,512.33], labels=['Low','Mid_Low-Mid','Mid-Mid_High','High'])"
   ]
  },
  {
   "cell_type": "code",
   "execution_count": 21,
   "metadata": {
    "execution": {
     "iopub.execute_input": "2023-03-27T21:48:21.228175Z",
     "iopub.status.busy": "2023-03-27T21:48:21.227154Z",
     "iopub.status.idle": "2023-03-27T21:48:21.559689Z",
     "shell.execute_reply": "2023-03-27T21:48:21.558634Z",
     "shell.execute_reply.started": "2023-03-27T21:48:21.228128Z"
    }
   },
   "outputs": [
    {
     "data": {
      "image/png": "[encoded data removed]",
      "text/plain": [
       "<Figure size 1400x800 with 1 Axes>"
      ]
     },
     "metadata": {},
     "output_type": "display_data"
    }
   ],
   "source": [
    "plt.rcParams[\"figure.figsize\"] = (14,8)\n",
    "plt.rcParams[\"axes.labelsize\"] = 15\n",
    "plt.tick_params(labelsize=12.5)\n",
    "ax_2 = sns.countplot(x = \"Fare_Class\", hue = \"Survived\", data = df_pd, palette=[\"C3\", \"C0\"]).legend(labels = [\"Died\", \"Survived\"])\n",
    "ax_2.set_title(\"Survival based on Fare Class\")\n"
   ]
  },
  {
   "cell_type": "markdown",
   "metadata": {},
   "source": [
    "#### - **`Ticket`:**<br>"
   ]
  },
  {
   "cell_type": "code",
   "execution_count": 22,
   "metadata": {
    "execution": {
     "iopub.execute_input": "2023-03-27T21:48:21.561638Z",
     "iopub.status.busy": "2023-03-27T21:48:21.561303Z",
     "iopub.status.idle": "2023-03-27T21:48:21.842315Z",
     "shell.execute_reply": "2023-03-27T21:48:21.841066Z",
     "shell.execute_reply.started": "2023-03-27T21:48:21.561606Z"
    }
   },
   "outputs": [
    {
     "name": "stdout",
     "output_type": "stream",
     "text": [
      "+--------+--------+-----+\n",
      "|  Ticket|Survived|count|\n",
      "+--------+--------+-----+\n",
      "|  330958|       1|    1|\n",
      "|  350404|       0|    1|\n",
      "|    2693|       0|    1|\n",
      "|  349912|       0|    1|\n",
      "|CA. 2343|       0|    7|\n",
      "+--------+--------+-----+\n",
      "only showing top 5 rows\n",
      "\n"
     ]
    }
   ],
   "source": [
    "df.groupBy(\"Ticket\",\"Survived\").count().show(5)"
   ]
  },
  {
   "cell_type": "code",
   "execution_count": 23,
   "metadata": {
    "execution": {
     "iopub.execute_input": "2023-03-27T21:48:21.844685Z",
     "iopub.status.busy": "2023-03-27T21:48:21.843706Z",
     "iopub.status.idle": "2023-03-27T21:48:22.197999Z",
     "shell.execute_reply": "2023-03-27T21:48:22.196633Z",
     "shell.execute_reply.started": "2023-03-27T21:48:21.844634Z"
    }
   },
   "outputs": [
    {
     "data": {
      "text/plain": [
       "681"
      ]
     },
     "execution_count": 23,
     "metadata": {},
     "output_type": "execute_result"
    }
   ],
   "source": [
    "df.select('Ticket').distinct().count() #this is the number of unique values in the Ticket column"
   ]
  },
  {
   "cell_type": "markdown",
   "metadata": {},
   "source": [
    "#### - **`Cabin`:**<br>"
   ]
  },
  {
   "cell_type": "code",
   "execution_count": 24,
   "metadata": {
    "execution": {
     "iopub.execute_input": "2023-03-27T21:48:22.200705Z",
     "iopub.status.busy": "2023-03-27T21:48:22.200221Z",
     "iopub.status.idle": "2023-03-27T21:48:22.419934Z",
     "shell.execute_reply": "2023-03-27T21:48:22.418753Z",
     "shell.execute_reply.started": "2023-03-27T21:48:22.200656Z"
    }
   },
   "outputs": [
    {
     "name": "stdout",
     "output_type": "stream",
     "text": [
      "+-----+--------+-----+\n",
      "|Cabin|Survived|count|\n",
      "+-----+--------+-----+\n",
      "|  C78|       0|    1|\n",
      "|   F2|       0|    1|\n",
      "|   A7|       0|    1|\n",
      "|  D45|       1|    1|\n",
      "|  C47|       1|    1|\n",
      "+-----+--------+-----+\n",
      "only showing top 5 rows\n",
      "\n"
     ]
    }
   ],
   "source": [
    "df.groupBy(\"Cabin\", \"Survived\").count().show(5)"
   ]
  },
  {
   "cell_type": "code",
   "execution_count": 25,
   "metadata": {
    "execution": {
     "iopub.execute_input": "2023-03-27T21:48:22.422421Z",
     "iopub.status.busy": "2023-03-27T21:48:22.421603Z",
     "iopub.status.idle": "2023-03-27T21:48:22.643600Z",
     "shell.execute_reply": "2023-03-27T21:48:22.642389Z",
     "shell.execute_reply.started": "2023-03-27T21:48:22.422369Z"
    }
   },
   "outputs": [
    {
     "data": {
      "text/plain": [
       "148"
      ]
     },
     "execution_count": 25,
     "metadata": {},
     "output_type": "execute_result"
    }
   ],
   "source": [
    "df.select('Cabin').distinct().count() #this is the number of unique values in the Cabin column"
   ]
  },
  {
   "cell_type": "code",
   "execution_count": 26,
   "metadata": {
    "execution": {
     "iopub.execute_input": "2023-03-27T21:48:22.645891Z",
     "iopub.status.busy": "2023-03-27T21:48:22.645288Z",
     "iopub.status.idle": "2023-03-27T21:48:22.664995Z",
     "shell.execute_reply": "2023-03-27T21:48:22.663738Z",
     "shell.execute_reply.started": "2023-03-27T21:48:22.645843Z"
    }
   },
   "outputs": [],
   "source": [
    "df_pyspark=df.drop('Cabin','Ticket','PassengerId')"
   ]
  },
  {
   "cell_type": "code",
   "execution_count": 27,
   "metadata": {
    "execution": {
     "iopub.execute_input": "2023-03-27T21:48:22.668192Z",
     "iopub.status.busy": "2023-03-27T21:48:22.667725Z",
     "iopub.status.idle": "2023-03-27T21:48:22.823126Z",
     "shell.execute_reply": "2023-03-27T21:48:22.821947Z",
     "shell.execute_reply.started": "2023-03-27T21:48:22.668145Z"
    }
   },
   "outputs": [
    {
     "name": "stdout",
     "output_type": "stream",
     "text": [
      "+--------+------+--------------------+------+----+-----+-----+-------+--------+\n",
      "|Survived|Pclass|                Name|   Sex| Age|SibSp|Parch|   Fare|Embarked|\n",
      "+--------+------+--------------------+------+----+-----+-----+-------+--------+\n",
      "|       0|     3|Braund, Mr. Owen ...|  male|22.0|    1|    0|   7.25|       S|\n",
      "|       1|     1|Cumings, Mrs. Joh...|female|38.0|    1|    0|71.2833|       C|\n",
      "|       1|     3|Heikkinen, Miss. ...|female|26.0|    0|    0|  7.925|       S|\n",
      "|       1|     1|Futrelle, Mrs. Ja...|female|35.0|    1|    0|   53.1|       S|\n",
      "|       0|     3|Allen, Mr. Willia...|  male|35.0|    0|    0|   8.05|       S|\n",
      "+--------+------+--------------------+------+----+-----+-----+-------+--------+\n",
      "only showing top 5 rows\n",
      "\n"
     ]
    }
   ],
   "source": [
    "df_pyspark.show(5)"
   ]
  },
  {
   "cell_type": "code",
   "execution_count": 28,
   "metadata": {
    "execution": {
     "iopub.execute_input": "2023-03-27T21:48:22.825223Z",
     "iopub.status.busy": "2023-03-27T21:48:22.824461Z",
     "iopub.status.idle": "2023-03-27T21:48:22.851659Z",
     "shell.execute_reply": "2023-03-27T21:48:22.850245Z",
     "shell.execute_reply.started": "2023-03-27T21:48:22.825171Z"
    }
   },
   "outputs": [],
   "source": [
    "from pyspark.sql.functions import mean,col,split, regexp_extract, lit\n",
    " #extract the title from the name column\n",
    "df_pyspark = df_pyspark.withColumn(\"Title\",regexp_extract(col(\"Name\"),\"([A-Za-z]+)\\.\",1))"
   ]
  },
  {
   "cell_type": "code",
   "execution_count": 29,
   "metadata": {
    "execution": {
     "iopub.execute_input": "2023-03-27T21:48:22.853354Z",
     "iopub.status.busy": "2023-03-27T21:48:22.852949Z",
     "iopub.status.idle": "2023-03-27T21:48:23.081220Z",
     "shell.execute_reply": "2023-03-27T21:48:23.079830Z",
     "shell.execute_reply.started": "2023-03-27T21:48:22.853310Z"
    }
   },
   "outputs": [
    {
     "name": "stdout",
     "output_type": "stream",
     "text": [
      "+--------+------+--------------------+------+----+-----+-----+-------+--------+-----+\n",
      "|Survived|Pclass|                Name|   Sex| Age|SibSp|Parch|   Fare|Embarked|Title|\n",
      "+--------+------+--------------------+------+----+-----+-----+-------+--------+-----+\n",
      "|       0|     3|Braund, Mr. Owen ...|  male|22.0|    1|    0|   7.25|       S|   Mr|\n",
      "|       1|     1|Cumings, Mrs. Joh...|female|38.0|    1|    0|71.2833|       C|  Mrs|\n",
      "|       1|     3|Heikkinen, Miss. ...|female|26.0|    0|    0|  7.925|       S| Miss|\n",
      "|       1|     1|Futrelle, Mrs. Ja...|female|35.0|    1|    0|   53.1|       S|  Mrs|\n",
      "|       0|     3|Allen, Mr. Willia...|  male|35.0|    0|    0|   8.05|       S|   Mr|\n",
      "+--------+------+--------------------+------+----+-----+-----+-------+--------+-----+\n",
      "only showing top 5 rows\n",
      "\n"
     ]
    }
   ],
   "source": [
    "df_pyspark.show(5)"
   ]
  },
  {
   "cell_type": "code",
   "execution_count": 30,
   "metadata": {
    "execution": {
     "iopub.execute_input": "2023-03-27T21:48:23.083001Z",
     "iopub.status.busy": "2023-03-27T21:48:23.082542Z",
     "iopub.status.idle": "2023-03-27T21:48:23.425990Z",
     "shell.execute_reply": "2023-03-27T21:48:23.424781Z",
     "shell.execute_reply.started": "2023-03-27T21:48:23.082951Z"
    }
   },
   "outputs": [
    {
     "name": "stdout",
     "output_type": "stream",
     "text": [
      "+--------+\n",
      "|   Title|\n",
      "+--------+\n",
      "|     Don|\n",
      "|    Miss|\n",
      "|Countess|\n",
      "|     Col|\n",
      "|     Rev|\n",
      "|    Lady|\n",
      "|  Master|\n",
      "|     Mme|\n",
      "|    Capt|\n",
      "|      Mr|\n",
      "|      Dr|\n",
      "|     Mrs|\n",
      "|     Sir|\n",
      "|Jonkheer|\n",
      "|    Mlle|\n",
      "|   Major|\n",
      "|      Ms|\n",
      "+--------+\n",
      "\n"
     ]
    }
   ],
   "source": [
    "df_pyspark.select(\"Title\").distinct().show()"
   ]
  },
  {
   "cell_type": "code",
   "execution_count": 31,
   "metadata": {
    "execution": {
     "iopub.execute_input": "2023-03-27T21:48:23.427676Z",
     "iopub.status.busy": "2023-03-27T21:48:23.427251Z",
     "iopub.status.idle": "2023-03-27T21:48:23.483549Z",
     "shell.execute_reply": "2023-03-27T21:48:23.482125Z",
     "shell.execute_reply.started": "2023-03-27T21:48:23.427630Z"
    }
   },
   "outputs": [],
   "source": [
    "df_pyspark = df_pyspark.replace(['Capt','Col', 'Major', 'Jonkheer','Don','Sir','Dr','Rev','Countess','Mme','Mlle','Ms','Lady'],\n",
    "               ['Officer','Officer','Officer','Royalty','Royalty', 'Royalty', 'Other','Other', 'Royalty', \"Mrs\", \"Miss\", 'Miss', \"Royalty\"])"
   ]
  },
  {
   "cell_type": "code",
   "execution_count": 32,
   "metadata": {
    "execution": {
     "iopub.execute_input": "2023-03-27T21:48:23.485237Z",
     "iopub.status.busy": "2023-03-27T21:48:23.484828Z",
     "iopub.status.idle": "2023-03-27T21:48:23.721350Z",
     "shell.execute_reply": "2023-03-27T21:48:23.720059Z",
     "shell.execute_reply.started": "2023-03-27T21:48:23.485191Z"
    }
   },
   "outputs": [
    {
     "name": "stdout",
     "output_type": "stream",
     "text": [
      "+--------+------+--------------------+------+----+-----+-----+-------+--------+------+\n",
      "|Survived|Pclass|                Name|   Sex| Age|SibSp|Parch|   Fare|Embarked| Title|\n",
      "+--------+------+--------------------+------+----+-----+-----+-------+--------+------+\n",
      "|       0|     3|Braund, Mr. Owen ...|  male|22.0|    1|    0|   7.25|       S|    Mr|\n",
      "|       1|     1|Cumings, Mrs. Joh...|female|38.0|    1|    0|71.2833|       C|   Mrs|\n",
      "|       1|     3|Heikkinen, Miss. ...|female|26.0|    0|    0|  7.925|       S|  Miss|\n",
      "|       1|     1|Futrelle, Mrs. Ja...|female|35.0|    1|    0|   53.1|       S|   Mrs|\n",
      "|       0|     3|Allen, Mr. Willia...|  male|35.0|    0|    0|   8.05|       S|    Mr|\n",
      "|       0|     3|    Moran, Mr. James|  male|null|    0|    0| 8.4583|       Q|    Mr|\n",
      "|       0|     1|McCarthy, Mr. Tim...|  male|54.0|    0|    0|51.8625|       S|    Mr|\n",
      "|       0|     3|Palsson, Master. ...|  male| 2.0|    3|    1| 21.075|       S|Master|\n",
      "|       1|     3|Johnson, Mrs. Osc...|female|27.0|    0|    2|11.1333|       S|   Mrs|\n",
      "|       1|     2|Nasser, Mrs. Nich...|female|14.0|    1|    0|30.0708|       C|   Mrs|\n",
      "|       1|     3|Sandstrom, Miss. ...|female| 4.0|    1|    1|   16.7|       S|  Miss|\n",
      "|       1|     1|Bonnell, Miss. El...|female|58.0|    0|    0|  26.55|       S|  Miss|\n",
      "|       0|     3|Saundercock, Mr. ...|  male|20.0|    0|    0|   8.05|       S|    Mr|\n",
      "|       0|     3|Andersson, Mr. An...|  male|39.0|    1|    5| 31.275|       S|    Mr|\n",
      "|       0|     3|Vestrom, Miss. Hu...|female|14.0|    0|    0| 7.8542|       S|  Miss|\n",
      "|       1|     2|Hewlett, Mrs. (Ma...|female|55.0|    0|    0|   16.0|       S|   Mrs|\n",
      "|       0|     3|Rice, Master. Eugene|  male| 2.0|    4|    1| 29.125|       Q|Master|\n",
      "|       1|     2|Williams, Mr. Cha...|  male|null|    0|    0|   13.0|       S|    Mr|\n",
      "|       0|     3|Vander Planke, Mr...|female|31.0|    1|    0|   18.0|       S|   Mrs|\n",
      "|       1|     3|Masselmani, Mrs. ...|female|null|    0|    0|  7.225|       C|   Mrs|\n",
      "+--------+------+--------------------+------+----+-----+-----+-------+--------+------+\n",
      "only showing top 20 rows\n",
      "\n"
     ]
    }
   ],
   "source": [
    "df_pyspark.show(20)"
   ]
  },
  {
   "cell_type": "code",
   "execution_count": 33,
   "metadata": {
    "execution": {
     "iopub.execute_input": "2023-03-27T21:48:23.723149Z",
     "iopub.status.busy": "2023-03-27T21:48:23.722711Z",
     "iopub.status.idle": "2023-03-27T21:48:24.356855Z",
     "shell.execute_reply": "2023-03-27T21:48:24.355651Z",
     "shell.execute_reply.started": "2023-03-27T21:48:23.723088Z"
    }
   },
   "outputs": [
    {
     "name": "stdout",
     "output_type": "stream",
     "text": [
      "Average age of a Miss travelling without Parents 'MissA' [Row(mean=27.68617021276596)]\n",
      "Average age of a Miss travelling with Parents 'MissPar' [Row(mean=11.863636363636363)]\n"
     ]
    }
   ],
   "source": [
    "print(\"Average age of a Miss travelling without Parents 'MissA'\", \n",
    "      df_pyspark[(df_pyspark.Title==\"Miss\") & (df_pyspark.Parch==0)].agg(mean('Age').alias('mean')).collect())\n",
    "print(\"Average age of a Miss travelling with Parents 'MissPar'\", \n",
    "      df_pyspark[(df_pyspark.Title==\"Miss\") & (df_pyspark.Parch!=0)].agg(mean('Age').alias('mean')).collect())"
   ]
  },
  {
   "cell_type": "code",
   "execution_count": 34,
   "metadata": {
    "execution": {
     "iopub.execute_input": "2023-03-27T21:48:24.358497Z",
     "iopub.status.busy": "2023-03-27T21:48:24.358079Z",
     "iopub.status.idle": "2023-03-27T21:48:24.385021Z",
     "shell.execute_reply": "2023-03-27T21:48:24.383835Z",
     "shell.execute_reply.started": "2023-03-27T21:48:24.358433Z"
    }
   },
   "outputs": [],
   "source": [
    "# Average age of a Miss travelling without Parents 'MissA' [Row(mean=21.773972602739725)]\n",
    "df_pyspark = df_pyspark.withColumn(\"NewTitle\",\n",
    "                        when((df_pyspark.Title==\"Miss\") & (df_pyspark.Parch==0), 'MissA')\n",
    "                       .when((df_pyspark.Title==\"Miss\") & (df_pyspark.Parch!=0), 'MissPar')\n",
    "                       .otherwise(df_pyspark['Title']))\n",
    "                      \n",
    "    "
   ]
  },
  {
   "cell_type": "code",
   "execution_count": 35,
   "metadata": {
    "execution": {
     "iopub.execute_input": "2023-03-27T21:48:24.387378Z",
     "iopub.status.busy": "2023-03-27T21:48:24.386985Z",
     "iopub.status.idle": "2023-03-27T21:48:24.590107Z",
     "shell.execute_reply": "2023-03-27T21:48:24.588800Z",
     "shell.execute_reply.started": "2023-03-27T21:48:24.387337Z"
    }
   },
   "outputs": [
    {
     "name": "stdout",
     "output_type": "stream",
     "text": [
      "+--------+------+--------------------+------+----+-----+-----+-------+--------+------+--------+\n",
      "|Survived|Pclass|                Name|   Sex| Age|SibSp|Parch|   Fare|Embarked| Title|NewTitle|\n",
      "+--------+------+--------------------+------+----+-----+-----+-------+--------+------+--------+\n",
      "|       0|     3|Braund, Mr. Owen ...|  male|22.0|    1|    0|   7.25|       S|    Mr|      Mr|\n",
      "|       1|     1|Cumings, Mrs. Joh...|female|38.0|    1|    0|71.2833|       C|   Mrs|     Mrs|\n",
      "|       1|     3|Heikkinen, Miss. ...|female|26.0|    0|    0|  7.925|       S|  Miss|   MissA|\n",
      "|       1|     1|Futrelle, Mrs. Ja...|female|35.0|    1|    0|   53.1|       S|   Mrs|     Mrs|\n",
      "|       0|     3|Allen, Mr. Willia...|  male|35.0|    0|    0|   8.05|       S|    Mr|      Mr|\n",
      "|       0|     3|    Moran, Mr. James|  male|null|    0|    0| 8.4583|       Q|    Mr|      Mr|\n",
      "|       0|     1|McCarthy, Mr. Tim...|  male|54.0|    0|    0|51.8625|       S|    Mr|      Mr|\n",
      "|       0|     3|Palsson, Master. ...|  male| 2.0|    3|    1| 21.075|       S|Master|  Master|\n",
      "|       1|     3|Johnson, Mrs. Osc...|female|27.0|    0|    2|11.1333|       S|   Mrs|     Mrs|\n",
      "|       1|     2|Nasser, Mrs. Nich...|female|14.0|    1|    0|30.0708|       C|   Mrs|     Mrs|\n",
      "|       1|     3|Sandstrom, Miss. ...|female| 4.0|    1|    1|   16.7|       S|  Miss| MissPar|\n",
      "|       1|     1|Bonnell, Miss. El...|female|58.0|    0|    0|  26.55|       S|  Miss|   MissA|\n",
      "|       0|     3|Saundercock, Mr. ...|  male|20.0|    0|    0|   8.05|       S|    Mr|      Mr|\n",
      "|       0|     3|Andersson, Mr. An...|  male|39.0|    1|    5| 31.275|       S|    Mr|      Mr|\n",
      "|       0|     3|Vestrom, Miss. Hu...|female|14.0|    0|    0| 7.8542|       S|  Miss|   MissA|\n",
      "|       1|     2|Hewlett, Mrs. (Ma...|female|55.0|    0|    0|   16.0|       S|   Mrs|     Mrs|\n",
      "|       0|     3|Rice, Master. Eugene|  male| 2.0|    4|    1| 29.125|       Q|Master|  Master|\n",
      "|       1|     2|Williams, Mr. Cha...|  male|null|    0|    0|   13.0|       S|    Mr|      Mr|\n",
      "|       0|     3|Vander Planke, Mr...|female|31.0|    1|    0|   18.0|       S|   Mrs|     Mrs|\n",
      "|       1|     3|Masselmani, Mrs. ...|female|null|    0|    0|  7.225|       C|   Mrs|     Mrs|\n",
      "+--------+------+--------------------+------+----+-----+-----+-------+--------+------+--------+\n",
      "only showing top 20 rows\n",
      "\n"
     ]
    }
   ],
   "source": [
    "df_pyspark.show(20)"
   ]
  },
  {
   "cell_type": "code",
   "execution_count": 36,
   "metadata": {
    "execution": {
     "iopub.execute_input": "2023-03-27T21:48:24.591825Z",
     "iopub.status.busy": "2023-03-27T21:48:24.591375Z",
     "iopub.status.idle": "2023-03-27T21:48:24.913496Z",
     "shell.execute_reply": "2023-03-27T21:48:24.912251Z",
     "shell.execute_reply.started": "2023-03-27T21:48:24.591778Z"
    }
   },
   "outputs": [],
   "source": [
    "my_list = df_pyspark.groupby(['NewTitle', 'Pclass']).avg(('Age')).collect()"
   ]
  },
  {
   "cell_type": "code",
   "execution_count": 37,
   "metadata": {
    "execution": {
     "iopub.execute_input": "2023-03-27T21:48:24.915115Z",
     "iopub.status.busy": "2023-03-27T21:48:24.914734Z",
     "iopub.status.idle": "2023-03-27T21:48:25.961547Z",
     "shell.execute_reply": "2023-03-27T21:48:25.960202Z",
     "shell.execute_reply.started": "2023-03-27T21:48:24.915074Z"
    }
   },
   "outputs": [
    {
     "name": "stderr",
     "output_type": "stream",
     "text": [
      "                                                                                \r"
     ]
    },
    {
     "name": "stdout",
     "output_type": "stream",
     "text": [
      "+--------+------+------------------+\n",
      "|NewTitle|Pclass|          avg(Age)|\n",
      "+--------+------+------------------+\n",
      "|   MissA|     2|            30.375|\n",
      "|     Mrs|     3|33.515151515151516|\n",
      "|      Mr|     1| 41.58045977011494|\n",
      "|   Other|     1|             43.75|\n",
      "| MissPar|     3| 6.903846153846154|\n",
      "| MissPar|     1|              21.0|\n",
      "|   MissA|     1| 34.25806451612903|\n",
      "|     Mrs|     1|              40.4|\n",
      "|   Other|     2|              42.0|\n",
      "|      Mr|     2| 32.76829268292683|\n",
      "|  Master|     3| 5.350833333333334|\n",
      "|   MissA|     3|21.697674418604652|\n",
      "| Officer|     1|              56.6|\n",
      "|      Mr|     3|28.724890829694324|\n",
      "| Royalty|     1|              41.6|\n",
      "|  Master|     2|2.2588888888888885|\n",
      "|  Master|     1| 5.306666666666667|\n",
      "| MissPar|     2|10.538461538461538|\n",
      "|     Mrs|     2| 33.68292682926829|\n",
      "+--------+------+------------------+\n",
      "\n"
     ]
    }
   ],
   "source": [
    "spark.createDataFrame(my_list).show()"
   ]
  },
  {
   "cell_type": "code",
   "execution_count": 38,
   "metadata": {
    "execution": {
     "iopub.execute_input": "2023-03-27T21:48:25.963313Z",
     "iopub.status.busy": "2023-03-27T21:48:25.962904Z",
     "iopub.status.idle": "2023-03-27T21:48:26.071363Z",
     "shell.execute_reply": "2023-03-27T21:48:26.070380Z",
     "shell.execute_reply.started": "2023-03-27T21:48:25.963269Z"
    }
   },
   "outputs": [],
   "source": [
    "# Here we are imputing the missing values of the Age column with the average age of the passengers with the same title and class.\n",
    "\n",
    "df_pyspark = df_pyspark.withColumn(\"AgeImputed\",\n",
    "                         when((df_pyspark.NewTitle==\"Mr\") & (df_pyspark.Pclass==3) & (df_pyspark.Age.isNull()), 28.72)\n",
    "                        .when((df_pyspark.NewTitle==\"Mr\") & (df_pyspark.Pclass==2) & (df_pyspark.Age.isNull()), 32.77)\n",
    "                        .when((df_pyspark.NewTitle==\"Mr\") & (df_pyspark.Pclass==1) & (df_pyspark.Age.isNull()), 41.58)\n",
    "                        .when((df_pyspark.NewTitle==\"Mrs\") & (df_pyspark.Pclass==3) & (df_pyspark.Age.isNull()), 33.5)\n",
    "                        .when((df_pyspark.NewTitle==\"Mrs\") & (df_pyspark.Pclass==2) & (df_pyspark.Age.isNull()), 33.68)\n",
    "                        .when((df_pyspark.NewTitle==\"Mrs\") & (df_pyspark.Pclass==1) & (df_pyspark.Age.isNull()), 40.4)\n",
    "                        .when((df_pyspark.NewTitle==\"Other\") & (df_pyspark.Pclass==2) & (df_pyspark.Age.isNull()), 42)\n",
    "                        .when((df_pyspark.NewTitle==\"Other\") & (df_pyspark.Pclass==1) & (df_pyspark.Age.isNull()), 43.8)\n",
    "                        .when((df_pyspark.NewTitle==\"MissA\") & (df_pyspark.Pclass==3) & (df_pyspark.Age.isNull()), 21.7)\n",
    "                        .when((df_pyspark.NewTitle==\"MissA\") & (df_pyspark.Pclass==2) & (df_pyspark.Age.isNull()), 30.38)\n",
    "                        .when((df_pyspark.NewTitle==\"MissA\") & (df_pyspark.Pclass==1) & (df_pyspark.Age.isNull()), 34.26)\n",
    "                        .when((df_pyspark.NewTitle==\"MissPar\") & (df_pyspark.Pclass==3) & (df_pyspark.Age.isNull()), 6.9)\n",
    "                        .when((df_pyspark.NewTitle==\"MissPar\") & (df_pyspark.Pclass==2) & (df_pyspark.Age.isNull()), 10.54)\n",
    "                        .when((df_pyspark.NewTitle==\"MissPar\") & (df_pyspark.Pclass==1) & (df_pyspark.Age.isNull()), 21)\n",
    "                        .when((df_pyspark.NewTitle==\"Master\") & (df_pyspark.Pclass==3) & (df_pyspark.Age.isNull()), 5.35)\n",
    "                        .when((df_pyspark.NewTitle==\"Master\") & (df_pyspark.Pclass==2) & (df_pyspark.Age.isNull()), 2.26)\n",
    "                        .when((df_pyspark.NewTitle==\"Master\") & (df_pyspark.Pclass==1) & (df_pyspark.Age.isNull()), 5.31)\n",
    "                        .when((df_pyspark.NewTitle==\"Officer|\") & (df_pyspark.Pclass==1) & (df_pyspark.Age.isNull()), 56.6)\n",
    "                        .when((df_pyspark.NewTitle==\"Royalty|\") & (df_pyspark.Pclass==1) & (df_pyspark.Age.isNull()), 41.6)\n",
    "                        .otherwise(df_pyspark.Age))"
   ]
  },
  {
   "cell_type": "code",
   "execution_count": 39,
   "metadata": {
    "execution": {
     "iopub.execute_input": "2023-03-27T21:48:26.072736Z",
     "iopub.status.busy": "2023-03-27T21:48:26.072380Z",
     "iopub.status.idle": "2023-03-27T21:48:26.096065Z",
     "shell.execute_reply": "2023-03-27T21:48:26.095065Z",
     "shell.execute_reply.started": "2023-03-27T21:48:26.072703Z"
    }
   },
   "outputs": [],
   "source": [
    "df_pyspark = df_pyspark.na.fill({\"Embarked\" : 'S'})"
   ]
  },
  {
   "cell_type": "code",
   "execution_count": 40,
   "metadata": {
    "execution": {
     "iopub.execute_input": "2023-03-27T21:48:26.097359Z",
     "iopub.status.busy": "2023-03-27T21:48:26.097055Z",
     "iopub.status.idle": "2023-03-27T21:48:26.394845Z",
     "shell.execute_reply": "2023-03-27T21:48:26.393512Z",
     "shell.execute_reply.started": "2023-03-27T21:48:26.097328Z"
    }
   },
   "outputs": [
    {
     "name": "stdout",
     "output_type": "stream",
     "text": [
      "+--------+------+--------------------+------+----+-----+-----+-------+--------+------+--------+----------+\n",
      "|Survived|Pclass|                Name|   Sex| Age|SibSp|Parch|   Fare|Embarked| Title|NewTitle|AgeImputed|\n",
      "+--------+------+--------------------+------+----+-----+-----+-------+--------+------+--------+----------+\n",
      "|       0|     3|Braund, Mr. Owen ...|  male|22.0|    1|    0|   7.25|       S|    Mr|      Mr|      22.0|\n",
      "|       1|     1|Cumings, Mrs. Joh...|female|38.0|    1|    0|71.2833|       C|   Mrs|     Mrs|      38.0|\n",
      "|       1|     3|Heikkinen, Miss. ...|female|26.0|    0|    0|  7.925|       S|  Miss|   MissA|      26.0|\n",
      "|       1|     1|Futrelle, Mrs. Ja...|female|35.0|    1|    0|   53.1|       S|   Mrs|     Mrs|      35.0|\n",
      "|       0|     3|Allen, Mr. Willia...|  male|35.0|    0|    0|   8.05|       S|    Mr|      Mr|      35.0|\n",
      "|       0|     3|    Moran, Mr. James|  male|null|    0|    0| 8.4583|       Q|    Mr|      Mr|     28.72|\n",
      "|       0|     1|McCarthy, Mr. Tim...|  male|54.0|    0|    0|51.8625|       S|    Mr|      Mr|      54.0|\n",
      "|       0|     3|Palsson, Master. ...|  male| 2.0|    3|    1| 21.075|       S|Master|  Master|       2.0|\n",
      "|       1|     3|Johnson, Mrs. Osc...|female|27.0|    0|    2|11.1333|       S|   Mrs|     Mrs|      27.0|\n",
      "|       1|     2|Nasser, Mrs. Nich...|female|14.0|    1|    0|30.0708|       C|   Mrs|     Mrs|      14.0|\n",
      "|       1|     3|Sandstrom, Miss. ...|female| 4.0|    1|    1|   16.7|       S|  Miss| MissPar|       4.0|\n",
      "|       1|     1|Bonnell, Miss. El...|female|58.0|    0|    0|  26.55|       S|  Miss|   MissA|      58.0|\n",
      "|       0|     3|Saundercock, Mr. ...|  male|20.0|    0|    0|   8.05|       S|    Mr|      Mr|      20.0|\n",
      "|       0|     3|Andersson, Mr. An...|  male|39.0|    1|    5| 31.275|       S|    Mr|      Mr|      39.0|\n",
      "|       0|     3|Vestrom, Miss. Hu...|female|14.0|    0|    0| 7.8542|       S|  Miss|   MissA|      14.0|\n",
      "|       1|     2|Hewlett, Mrs. (Ma...|female|55.0|    0|    0|   16.0|       S|   Mrs|     Mrs|      55.0|\n",
      "|       0|     3|Rice, Master. Eugene|  male| 2.0|    4|    1| 29.125|       Q|Master|  Master|       2.0|\n",
      "|       1|     2|Williams, Mr. Cha...|  male|null|    0|    0|   13.0|       S|    Mr|      Mr|     32.77|\n",
      "|       0|     3|Vander Planke, Mr...|female|31.0|    1|    0|   18.0|       S|   Mrs|     Mrs|      31.0|\n",
      "|       1|     3|Masselmani, Mrs. ...|female|null|    0|    0|  7.225|       C|   Mrs|     Mrs|      33.5|\n",
      "+--------+------+--------------------+------+----+-----+-----+-------+--------+------+--------+----------+\n",
      "only showing top 20 rows\n",
      "\n"
     ]
    }
   ],
   "source": [
    "df_pyspark.show(20)"
   ]
  },
  {
   "cell_type": "code",
   "execution_count": 41,
   "metadata": {
    "execution": {
     "iopub.execute_input": "2023-03-27T21:48:26.408893Z",
     "iopub.status.busy": "2023-03-27T21:48:26.407806Z",
     "iopub.status.idle": "2023-03-27T21:48:26.425696Z",
     "shell.execute_reply": "2023-03-27T21:48:26.424297Z",
     "shell.execute_reply.started": "2023-03-27T21:48:26.408839Z"
    }
   },
   "outputs": [],
   "source": [
    "df_pyspark=df_pyspark.drop('Name','Age','Title')"
   ]
  },
  {
   "cell_type": "code",
   "execution_count": 42,
   "metadata": {
    "execution": {
     "iopub.execute_input": "2023-03-27T21:48:26.428535Z",
     "iopub.status.busy": "2023-03-27T21:48:26.427696Z",
     "iopub.status.idle": "2023-03-27T21:48:26.996764Z",
     "shell.execute_reply": "2023-03-27T21:48:26.995480Z",
     "shell.execute_reply.started": "2023-03-27T21:48:26.428480Z"
    }
   },
   "outputs": [
    {
     "name": "stdout",
     "output_type": "stream",
     "text": [
      "+--------+------+---+-----+-----+----+--------+--------+----------+\n",
      "|Survived|Pclass|Sex|SibSp|Parch|Fare|Embarked|NewTitle|AgeImputed|\n",
      "+--------+------+---+-----+-----+----+--------+--------+----------+\n",
      "|       0|     0|  0|    0|    0|   0|       0|       0|         0|\n",
      "+--------+------+---+-----+-----+----+--------+--------+----------+\n",
      "\n"
     ]
    }
   ],
   "source": [
    "df_pyspark.select([count(when(isnan(c)|col(c).isNull(),c)).alias(c) for c in df_pyspark.columns]).show()"
   ]
  },
  {
   "cell_type": "code",
   "execution_count": 43,
   "metadata": {
    "execution": {
     "iopub.execute_input": "2023-03-27T21:48:26.998457Z",
     "iopub.status.busy": "2023-03-27T21:48:26.998000Z",
     "iopub.status.idle": "2023-03-27T21:48:27.009731Z",
     "shell.execute_reply": "2023-03-27T21:48:27.008231Z",
     "shell.execute_reply.started": "2023-03-27T21:48:26.998395Z"
    }
   },
   "outputs": [
    {
     "name": "stdout",
     "output_type": "stream",
     "text": [
      "root\n",
      " |-- Survived: integer (nullable = true)\n",
      " |-- Pclass: integer (nullable = true)\n",
      " |-- Sex: string (nullable = true)\n",
      " |-- SibSp: integer (nullable = true)\n",
      " |-- Parch: integer (nullable = true)\n",
      " |-- Fare: double (nullable = true)\n",
      " |-- Embarked: string (nullable = false)\n",
      " |-- NewTitle: string (nullable = true)\n",
      " |-- AgeImputed: double (nullable = true)\n",
      "\n"
     ]
    }
   ],
   "source": [
    "df_pyspark.printSchema()"
   ]
  },
  {
   "cell_type": "code",
   "execution_count": 44,
   "metadata": {
    "execution": {
     "iopub.execute_input": "2023-03-27T21:48:27.016289Z",
     "iopub.status.busy": "2023-03-27T21:48:27.015668Z",
     "iopub.status.idle": "2023-03-27T21:48:27.025330Z",
     "shell.execute_reply": "2023-03-27T21:48:27.023898Z",
     "shell.execute_reply.started": "2023-03-27T21:48:27.016236Z"
    }
   },
   "outputs": [],
   "source": [
    "stages=[]\n",
    "cat=['Sex','Embarked','Pclass','NewTitle']"
   ]
  },
  {
   "cell_type": "code",
   "execution_count": 45,
   "metadata": {
    "execution": {
     "iopub.execute_input": "2023-03-27T21:48:27.030991Z",
     "iopub.status.busy": "2023-03-27T21:48:27.028284Z",
     "iopub.status.idle": "2023-03-27T21:48:27.104593Z",
     "shell.execute_reply": "2023-03-27T21:48:27.103626Z",
     "shell.execute_reply.started": "2023-03-27T21:48:27.030939Z"
    }
   },
   "outputs": [
    {
     "data": {
      "text/plain": [
       "[StringIndexer_eeb686001ac6,\n",
       " OneHotEncoder_7738c1bc7568,\n",
       " StringIndexer_b455bdc12376,\n",
       " OneHotEncoder_1b69a77233ac,\n",
       " StringIndexer_18dde12a0548,\n",
       " OneHotEncoder_bdfd83844f1b,\n",
       " StringIndexer_f82381fc7994,\n",
       " OneHotEncoder_2784e2a573c7]"
      ]
     },
     "execution_count": 45,
     "metadata": {},
     "output_type": "execute_result"
    }
   ],
   "source": [
    "for catCol in cat:\n",
    "    indexer = StringIndexer(inputCol=catCol, outputCol=catCol+'Index',stringOrderType='frequencyDesc')\n",
    "    encoder=OneHotEncoder(inputCols=[indexer.getOutputCol()],outputCols=[catCol+'catVec'])\n",
    "    stages+=[indexer,encoder]\n",
    "    \n",
    "stages"
   ]
  },
  {
   "cell_type": "code",
   "execution_count": 46,
   "metadata": {
    "execution": {
     "iopub.execute_input": "2023-03-27T21:48:27.106391Z",
     "iopub.status.busy": "2023-03-27T21:48:27.106034Z",
     "iopub.status.idle": "2023-03-27T21:48:27.111598Z",
     "shell.execute_reply": "2023-03-27T21:48:27.110414Z",
     "shell.execute_reply.started": "2023-03-27T21:48:27.106356Z"
    }
   },
   "outputs": [],
   "source": [
    "numeric=['Fare','SibSp','Parch','AgeImputed']"
   ]
  },
  {
   "cell_type": "code",
   "execution_count": 47,
   "metadata": {
    "execution": {
     "iopub.execute_input": "2023-03-27T21:48:27.114249Z",
     "iopub.status.busy": "2023-03-27T21:48:27.113200Z",
     "iopub.status.idle": "2023-03-27T21:48:27.136673Z",
     "shell.execute_reply": "2023-03-27T21:48:27.134334Z",
     "shell.execute_reply.started": "2023-03-27T21:48:27.114179Z"
    }
   },
   "outputs": [],
   "source": [
    "assembleInputs=[c+'catVec' for c in cat]+numeric\n",
    "assembler=VectorAssembler(inputCols=assembleInputs,outputCol=\"features\")\n",
    "stages+=[assembler]"
   ]
  },
  {
   "cell_type": "code",
   "execution_count": 48,
   "metadata": {
    "execution": {
     "iopub.execute_input": "2023-03-27T21:48:27.141525Z",
     "iopub.status.busy": "2023-03-27T21:48:27.140601Z",
     "iopub.status.idle": "2023-03-27T21:48:27.182244Z",
     "shell.execute_reply": "2023-03-27T21:48:27.180714Z",
     "shell.execute_reply.started": "2023-03-27T21:48:27.141467Z"
    }
   },
   "outputs": [],
   "source": [
    "train_data, test_data = df_pyspark.randomSplit([0.8,0.2],seed=42) "
   ]
  },
  {
   "cell_type": "code",
   "execution_count": 49,
   "metadata": {
    "execution": {
     "iopub.execute_input": "2023-03-27T21:48:27.184268Z",
     "iopub.status.busy": "2023-03-27T21:48:27.183837Z",
     "iopub.status.idle": "2023-03-27T21:48:30.267074Z",
     "shell.execute_reply": "2023-03-27T21:48:30.266153Z",
     "shell.execute_reply.started": "2023-03-27T21:48:27.184211Z"
    }
   },
   "outputs": [
    {
     "name": "stderr",
     "output_type": "stream",
     "text": [
      "                                                                                \r"
     ]
    }
   ],
   "source": [
    "# pipeline\n",
    "pipeline=Pipeline().setStages(stages)\n",
    "pipelineModel=pipeline.fit(train_data)"
   ]
  },
  {
   "cell_type": "code",
   "execution_count": 50,
   "metadata": {
    "execution": {
     "iopub.execute_input": "2023-03-27T21:48:30.272018Z",
     "iopub.status.busy": "2023-03-27T21:48:30.271646Z",
     "iopub.status.idle": "2023-03-27T21:48:30.878503Z",
     "shell.execute_reply": "2023-03-27T21:48:30.877093Z",
     "shell.execute_reply.started": "2023-03-27T21:48:30.271981Z"
    }
   },
   "outputs": [],
   "source": [
    "train_pipe=pipelineModel.transform(train_data)\n",
    "test_pipe=pipelineModel.transform(test_data)"
   ]
  },
  {
   "cell_type": "code",
   "execution_count": 51,
   "metadata": {
    "execution": {
     "iopub.execute_input": "2023-03-27T21:48:30.880372Z",
     "iopub.status.busy": "2023-03-27T21:48:30.879930Z",
     "iopub.status.idle": "2023-03-27T21:48:31.912305Z",
     "shell.execute_reply": "2023-03-27T21:48:31.910365Z",
     "shell.execute_reply.started": "2023-03-27T21:48:30.880322Z"
    }
   },
   "outputs": [
    {
     "data": {
      "text/plain": [
       "[Row(Survived=0, Pclass=1, Sex='female', SibSp=0, Parch=0, Fare=28.7125, Embarked='C', NewTitle='MissA', AgeImputed=50.0, SexIndex=1.0, SexcatVec=SparseVector(1, {}), EmbarkedIndex=1.0, EmbarkedcatVec=SparseVector(2, {1: 1.0}), PclassIndex=1.0, PclasscatVec=SparseVector(2, {1: 1.0}), NewTitleIndex=1.0, NewTitlecatVec=SparseVector(7, {1: 1.0}), features=SparseVector(16, {2: 1.0, 4: 1.0, 6: 1.0, 12: 28.7125, 15: 50.0}))]"
      ]
     },
     "execution_count": 51,
     "metadata": {},
     "output_type": "execute_result"
    }
   ],
   "source": [
    "train_pipe.head(1)"
   ]
  },
  {
   "cell_type": "code",
   "execution_count": 52,
   "metadata": {
    "execution": {
     "iopub.execute_input": "2023-03-27T21:48:31.919771Z",
     "iopub.status.busy": "2023-03-27T21:48:31.917497Z",
     "iopub.status.idle": "2023-03-27T21:48:31.928926Z",
     "shell.execute_reply": "2023-03-27T21:48:31.927483Z",
     "shell.execute_reply.started": "2023-03-27T21:48:31.919718Z"
    }
   },
   "outputs": [],
   "source": [
    "from pyspark.ml.classification import RandomForestClassifier"
   ]
  },
  {
   "cell_type": "code",
   "execution_count": 53,
   "metadata": {
    "execution": {
     "iopub.execute_input": "2023-03-27T21:48:31.933908Z",
     "iopub.status.busy": "2023-03-27T21:48:31.931876Z",
     "iopub.status.idle": "2023-03-27T21:48:35.565528Z",
     "shell.execute_reply": "2023-03-27T21:48:35.564638Z",
     "shell.execute_reply.started": "2023-03-27T21:48:31.933856Z"
    }
   },
   "outputs": [],
   "source": [
    "# Random Forest Classification\n",
    "rf = RandomForestClassifier(labelCol = 'Survived', predictionCol='prediction', seed=42)\n",
    "rfmodel = rf.fit(train_pipe)"
   ]
  },
  {
   "cell_type": "code",
   "execution_count": 54,
   "metadata": {
    "execution": {
     "iopub.execute_input": "2023-03-27T21:48:35.572381Z",
     "iopub.status.busy": "2023-03-27T21:48:35.570043Z",
     "iopub.status.idle": "2023-03-27T21:48:35.640631Z",
     "shell.execute_reply": "2023-03-27T21:48:35.639688Z",
     "shell.execute_reply.started": "2023-03-27T21:48:35.572334Z"
    }
   },
   "outputs": [],
   "source": [
    "pred_results_rf = rfmodel.transform(test_pipe)"
   ]
  },
  {
   "cell_type": "code",
   "execution_count": 55,
   "metadata": {
    "execution": {
     "iopub.execute_input": "2023-03-27T21:48:35.642242Z",
     "iopub.status.busy": "2023-03-27T21:48:35.641742Z",
     "iopub.status.idle": "2023-03-27T21:48:35.938795Z",
     "shell.execute_reply": "2023-03-27T21:48:35.937536Z",
     "shell.execute_reply.started": "2023-03-27T21:48:35.642192Z"
    }
   },
   "outputs": [
    {
     "data": {
      "text/plain": [
       "0.839142091152815"
      ]
     },
     "execution_count": 55,
     "metadata": {},
     "output_type": "execute_result"
    }
   ],
   "source": [
    " # For the Training Set\n",
    "summary=rfmodel.summary\n",
    "summary.accuracy"
   ]
  },
  {
   "cell_type": "code",
   "execution_count": 56,
   "metadata": {
    "execution": {
     "iopub.execute_input": "2023-03-27T21:48:35.941435Z",
     "iopub.status.busy": "2023-03-27T21:48:35.940987Z",
     "iopub.status.idle": "2023-03-27T21:48:37.436675Z",
     "shell.execute_reply": "2023-03-27T21:48:37.435517Z",
     "shell.execute_reply.started": "2023-03-27T21:48:35.941389Z"
    }
   },
   "outputs": [
    {
     "name": "stdout",
     "output_type": "stream",
     "text": [
      "Area under ROC curve:  0.8982240437158471\n",
      "Area under PR curve:  0.891833388917776\n"
     ]
    }
   ],
   "source": [
    "from pyspark.ml.evaluation import BinaryClassificationEvaluator\n",
    "evaluator = BinaryClassificationEvaluator(labelCol='Survived')\n",
    "\n",
    "rfevaluator=evaluator.evaluate(pred_results_rf)\n",
    "# equal to:\n",
    "auroc = evaluator.evaluate(pred_results_rf, {evaluator.metricName: \"areaUnderROC\"})\n",
    "\n",
    "aupr= evaluator.evaluate(pred_results_rf, {evaluator.metricName: \"areaUnderPR\"})\n",
    "print('Area under ROC curve: ',auroc)\n",
    "print('Area under PR curve: ',aupr)"
   ]
  },
  {
   "cell_type": "code",
   "execution_count": 57,
   "metadata": {
    "execution": {
     "iopub.execute_input": "2023-03-27T21:48:37.438393Z",
     "iopub.status.busy": "2023-03-27T21:48:37.437880Z",
     "iopub.status.idle": "2023-03-27T21:48:37.447640Z",
     "shell.execute_reply": "2023-03-27T21:48:37.446119Z",
     "shell.execute_reply.started": "2023-03-27T21:48:37.438347Z"
    }
   },
   "outputs": [],
   "source": [
    "from pyspark.ml.tuning import ParamGridBuilder,CrossValidator\n",
    "rfparamGrid = (ParamGridBuilder()\n",
    "               .addGrid(rf.maxDepth, [2, 4, 5])\n",
    "               .addGrid(rf.numTrees, [5, 10, 20, 100])\n",
    "             .build())"
   ]
  },
  {
   "cell_type": "code",
   "execution_count": 58,
   "metadata": {
    "execution": {
     "iopub.execute_input": "2023-03-27T21:48:37.451824Z",
     "iopub.status.busy": "2023-03-27T21:48:37.449373Z",
     "iopub.status.idle": "2023-03-27T21:49:40.370954Z",
     "shell.execute_reply": "2023-03-27T21:49:40.369885Z",
     "shell.execute_reply.started": "2023-03-27T21:48:37.451771Z"
    }
   },
   "outputs": [],
   "source": [
    "from pyspark.ml.evaluation import BinaryClassificationEvaluator\n",
    "evaluatorRF=BinaryClassificationEvaluator(labelCol='Survived')\n",
    "\n",
    "cv = CrossValidator(estimator = rf,\n",
    "                      estimatorParamMaps = rfparamGrid,\n",
    "                      evaluator = evaluatorRF,\n",
    "                      numFolds = 5)\n",
    "\n",
    "rfcv=cv.fit(train_pipe)"
   ]
  },
  {
   "cell_type": "code",
   "execution_count": 59,
   "metadata": {
    "execution": {
     "iopub.execute_input": "2023-03-27T21:49:40.378163Z",
     "iopub.status.busy": "2023-03-27T21:49:40.375831Z",
     "iopub.status.idle": "2023-03-27T21:49:40.637547Z",
     "shell.execute_reply": "2023-03-27T21:49:40.636402Z",
     "shell.execute_reply.started": "2023-03-27T21:49:40.378124Z"
    }
   },
   "outputs": [
    {
     "data": {
      "text/plain": [
       "0.8963700234192037"
      ]
     },
     "execution_count": 59,
     "metadata": {},
     "output_type": "execute_result"
    }
   ],
   "source": [
    "# Make predictions on test documents. cvModel uses the best model found (lrModel).\n",
    "predictions=rfcv.bestModel.transform(test_pipe)\n",
    "evaluatorRF.evaluate(predictions)"
   ]
  },
  {
   "cell_type": "code",
   "execution_count": 60,
   "metadata": {
    "execution": {
     "iopub.execute_input": "2023-03-27T21:49:40.640190Z",
     "iopub.status.busy": "2023-03-27T21:49:40.639059Z",
     "iopub.status.idle": "2023-03-27T21:49:41.174068Z",
     "shell.execute_reply": "2023-03-27T21:49:41.172799Z",
     "shell.execute_reply.started": "2023-03-27T21:49:40.640152Z"
    }
   },
   "outputs": [
    {
     "name": "stdout",
     "output_type": "stream",
     "text": [
      "Area under ROC curve:  0.8963700234192037\n",
      "Area under PR curve:  0.8920463126057557\n"
     ]
    }
   ],
   "source": [
    "# As, by default, the metric name of the BinaryClassificationEvaluator is areaUnderROC the first value will be equal to the cell above\n",
    "auroc = evaluator.evaluate(predictions, {evaluator.metricName: \"areaUnderROC\"})\n",
    "aupr= evaluatorRF.evaluate(predictions, {evaluatorRF.metricName: \"areaUnderPR\"})\n",
    "print('Area under ROC curve: ',auroc)\n",
    "print('Area under PR curve: ',aupr)"
   ]
  },
  {
   "cell_type": "code",
   "execution_count": 61,
   "metadata": {
    "execution": {
     "iopub.execute_input": "2023-03-27T21:49:41.175867Z",
     "iopub.status.busy": "2023-03-27T21:49:41.175409Z",
     "iopub.status.idle": "2023-03-27T21:49:41.181484Z",
     "shell.execute_reply": "2023-03-27T21:49:41.180101Z",
     "shell.execute_reply.started": "2023-03-27T21:49:41.175817Z"
    }
   },
   "outputs": [],
   "source": [
    "from pyspark.ml.evaluation import MulticlassClassificationEvaluator"
   ]
  },
  {
   "cell_type": "code",
   "execution_count": 62,
   "metadata": {
    "execution": {
     "iopub.execute_input": "2023-03-27T21:49:41.183188Z",
     "iopub.status.busy": "2023-03-27T21:49:41.182741Z",
     "iopub.status.idle": "2023-03-27T21:49:41.474150Z",
     "shell.execute_reply": "2023-03-27T21:49:41.473139Z",
     "shell.execute_reply.started": "2023-03-27T21:49:41.183128Z"
    }
   },
   "outputs": [
    {
     "name": "stdout",
     "output_type": "stream",
     "text": [
      "Accuracy of RandomForestClassifier is =  0.8413793103448276\n"
     ]
    }
   ],
   "source": [
    "multi_evaluator = MulticlassClassificationEvaluator(labelCol=\"Survived\", predictionCol=\"prediction\", metricName=\"accuracy\")\n",
    "rf_accuracy = multi_evaluator.evaluate(predictions)\n",
    "print(\"Accuracy of RandomForestClassifier is = \", (rf_accuracy))"
   ]
  },
  {
   "cell_type": "code",
   "execution_count": 63,
   "metadata": {
    "execution": {
     "iopub.execute_input": "2023-03-27T21:49:41.477034Z",
     "iopub.status.busy": "2023-03-27T21:49:41.475763Z",
     "iopub.status.idle": "2023-03-27T21:49:41.842016Z",
     "shell.execute_reply": "2023-03-27T21:49:41.840522Z",
     "shell.execute_reply.started": "2023-03-27T21:49:41.476984Z"
    }
   },
   "outputs": [],
   "source": [
    "from sklearn.metrics import classification_report"
   ]
  },
  {
   "cell_type": "code",
   "execution_count": 64,
   "metadata": {
    "execution": {
     "iopub.execute_input": "2023-03-27T21:49:41.845796Z",
     "iopub.status.busy": "2023-03-27T21:49:41.844900Z",
     "iopub.status.idle": "2023-03-27T21:49:42.289582Z",
     "shell.execute_reply": "2023-03-27T21:49:42.288007Z",
     "shell.execute_reply.started": "2023-03-27T21:49:41.845747Z"
    }
   },
   "outputs": [],
   "source": [
    "y_true = predictions.select(['Survived']).collect()\n",
    "y_pred = predictions.select(['prediction']).collect()"
   ]
  },
  {
   "cell_type": "code",
   "execution_count": 65,
   "metadata": {
    "execution": {
     "iopub.execute_input": "2023-03-27T21:49:42.296051Z",
     "iopub.status.busy": "2023-03-27T21:49:42.295586Z",
     "iopub.status.idle": "2023-03-27T21:49:42.315567Z",
     "shell.execute_reply": "2023-03-27T21:49:42.314299Z",
     "shell.execute_reply.started": "2023-03-27T21:49:42.296002Z"
    },
    "scrolled": true
   },
   "outputs": [
    {
     "name": "stdout",
     "output_type": "stream",
     "text": [
      "              precision    recall  f1-score   support\n",
      "\n",
      "           0       0.84      0.90      0.87        84\n",
      "           1       0.85      0.75      0.80        61\n",
      "\n",
      "    accuracy                           0.84       145\n",
      "   macro avg       0.84      0.83      0.83       145\n",
      "weighted avg       0.84      0.84      0.84       145\n",
      "\n"
     ]
    }
   ],
   "source": [
    "print(classification_report(y_true, y_pred))"
   ]
  }
 ],
 "metadata": {
  "kernelspec": {
   "display_name": "Python 3 (ipykernel)",
   "language": "python",
   "name": "python3"
  },
  "language_info": {
   "codemirror_mode": {
    "name": "ipython",
    "version": 3
   },
   "file_extension": ".py",
   "mimetype": "text/x-python",
   "name": "python",
   "nbconvert_exporter": "python",
   "pygments_lexer": "ipython3",
   "version": "3.9.7"
  }
 },
 "nbformat": 4,
 "nbformat_minor": 4
}
